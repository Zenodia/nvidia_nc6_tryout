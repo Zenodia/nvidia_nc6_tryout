{
 "cells": [
  {
   "cell_type": "markdown",
   "metadata": {},
   "source": [
    "### Read the input image"
   ]
  },
  {
   "cell_type": "code",
   "execution_count": 2,
   "metadata": {},
   "outputs": [
    {
     "name": "stderr",
     "output_type": "stream",
     "text": [
      "Using TensorFlow backend.\n"
     ]
    },
    {
     "name": "stdout",
     "output_type": "stream",
     "text": [
      "Downloading data from https://s3.amazonaws.com/img-datasets/mnist.npz\n",
      "10993664/11490434 [===========================>..] - ETA: 0s"
     ]
    }
   ],
   "source": [
    "from keras.datasets import mnist\n",
    "\n",
    "(x_train, y_train), (x_test, y_test) = mnist.load_data()"
   ]
  },
  {
   "cell_type": "code",
   "execution_count": 20,
   "metadata": {},
   "outputs": [
    {
     "data": {
      "text/plain": [
       "((28, 28), (28, 28), 0, 1)"
      ]
     },
     "execution_count": 20,
     "metadata": {},
     "output_type": "execute_result"
    }
   ],
   "source": [
    "\n",
    "sample1=x_train[1]\n",
    "sample2=x_train[3]\n",
    "sample1.shape,sample2.shape , y_train[1], y_train[3]"
   ]
  },
  {
   "cell_type": "code",
   "execution_count": 21,
   "metadata": {},
   "outputs": [],
   "source": [
    "# import the needed libraries\n",
    "import tensorflow as tf\n",
    "import tensorflow.contrib.tensorrt as trt # must import this although we will not use it explicitly\n",
    "from tensorflow.python.platform import gfile\n",
    "from PIL import Image\n",
    "import numpy as np\n",
    "import time\n",
    "from matplotlib import pyplot as plt\n",
    "\n",
    "# read the testing images (only for example)\n",
    "\n",
    "input_img = np.concatenate((sample1.reshape((1, 28, 28, 1)), \n",
    "                            sample2.reshape((1, 28, 28, 1))), \n",
    "                           axis=0)"
   ]
  },
  {
   "cell_type": "markdown",
   "metadata": {},
   "source": [
    "### Function to read \".pb\" model (TensorRT model is stored in \".pb\")"
   ]
  },
  {
   "cell_type": "code",
   "execution_count": 22,
   "metadata": {},
   "outputs": [],
   "source": [
    "# function to read a \".pb\" model \n",
    "# (can be used to read frozen model or TensorRT model)\n",
    "def read_pb_graph(model):\n",
    "    with gfile.FastGFile(model,'rb') as f:\n",
    "        graph_def = tf.GraphDef()\n",
    "        graph_def.ParseFromString(f.read())\n",
    "    return graph_def"
   ]
  },
  {
   "cell_type": "markdown",
   "metadata": {},
   "source": [
    "### Perform inference using TensorRT model"
   ]
  },
  {
   "cell_type": "code",
   "execution_count": 23,
   "metadata": {},
   "outputs": [
    {
     "name": "stdout",
     "output_type": "stream",
     "text": [
      "needed time in inference-0:  0.001100778579711914\n",
      "needed time in inference-1:  0.0008721351623535156\n",
      "needed time in inference-2:  0.0008769035339355469\n",
      "needed time in inference-3:  0.0008478164672851562\n",
      "needed time in inference-4:  0.0009539127349853516\n",
      "needed time in inference-5:  0.0030603408813476562\n",
      "needed time in inference-6:  0.0008563995361328125\n",
      "needed time in inference-7:  0.0008900165557861328\n",
      "needed time in inference-8:  0.0008425712585449219\n",
      "needed time in inference-9:  0.0009315013885498047\n",
      "needed time in inference-10:  0.0008451938629150391\n",
      "needed time in inference-11:  0.0008246898651123047\n",
      "needed time in inference-12:  0.0008881092071533203\n",
      "needed time in inference-13:  0.0008909702301025391\n",
      "needed time in inference-14:  0.0008547306060791016\n",
      "needed time in inference-15:  0.000873565673828125\n",
      "needed time in inference-16:  0.0008332729339599609\n",
      "needed time in inference-17:  0.0009016990661621094\n",
      "needed time in inference-18:  0.0008265972137451172\n",
      "needed time in inference-19:  0.0008859634399414062\n",
      "needed time in inference-20:  0.0008327960968017578\n",
      "needed time in inference-21:  0.0010993480682373047\n",
      "needed time in inference-22:  0.0008580684661865234\n",
      "needed time in inference-23:  0.0008606910705566406\n",
      "needed time in inference-24:  0.0009016990661621094\n",
      "needed time in inference-25:  0.0008480548858642578\n",
      "needed time in inference-26:  0.0008299350738525391\n",
      "needed time in inference-27:  0.0008611679077148438\n",
      "needed time in inference-28:  0.0008528232574462891\n",
      "needed time in inference-29:  0.0009856224060058594\n",
      "needed time in inference-30:  0.0009539127349853516\n",
      "needed time in inference-31:  0.0010771751403808594\n",
      "needed time in inference-32:  0.0008611679077148438\n",
      "needed time in inference-33:  0.0008378028869628906\n",
      "needed time in inference-34:  0.0008435249328613281\n",
      "needed time in inference-35:  0.0009062290191650391\n",
      "needed time in inference-36:  0.0008978843688964844\n",
      "needed time in inference-37:  0.0008625984191894531\n",
      "needed time in inference-38:  0.0008428096771240234\n",
      "needed time in inference-39:  0.0008509159088134766\n",
      "needed time in inference-40:  0.00090789794921875\n",
      "needed time in inference-41:  0.0008816719055175781\n",
      "needed time in inference-42:  0.0009176731109619141\n",
      "needed time in inference-43:  0.0008711814880371094\n",
      "needed time in inference-44:  0.0008473396301269531\n",
      "needed time in inference-45:  0.0009353160858154297\n",
      "needed time in inference-46:  0.0008137226104736328\n",
      "needed time in inference-47:  0.0008533000946044922\n",
      "needed time in inference-48:  0.0008492469787597656\n",
      "needed time in inference-49:  0.0008394718170166016\n",
      "average inference time:  0.0009287643432617187\n"
     ]
    }
   ],
   "source": [
    "# variable\n",
    "TENSORRT_MODEL_PATH = './model/TensorRT_model.pb'\n",
    "\n",
    "graph = tf.Graph()\n",
    "with graph.as_default():\n",
    "    with tf.Session(config=tf.ConfigProto(gpu_options=tf.GPUOptions(per_process_gpu_memory_fraction=0.50))) as sess:\n",
    "        # read TensorRT model\n",
    "        trt_graph = read_pb_graph(TENSORRT_MODEL_PATH)\n",
    "\n",
    "        # obtain the corresponding input-output tensor\n",
    "        tf.import_graph_def(trt_graph, name='')\n",
    "        input = sess.graph.get_tensor_by_name('input_tensor_input:0')\n",
    "        output = sess.graph.get_tensor_by_name('output_tensor/Softmax:0')\n",
    "\n",
    "        # in this case, it demonstrates to perform inference for 50 times\n",
    "        total_time = 0; n_time_inference = 50\n",
    "        out_pred = sess.run(output, feed_dict={input: input_img})\n",
    "        for i in range(n_time_inference):\n",
    "            t1 = time.time()\n",
    "            out_pred = sess.run(output, feed_dict={input: input_img})\n",
    "            t2 = time.time()\n",
    "            delta_time = t2 - t1\n",
    "            total_time += delta_time\n",
    "            print(\"needed time in inference-\" + str(i) + \": \", delta_time)\n",
    "        avg_time_tensorRT = total_time / n_time_inference\n",
    "        print(\"average inference time: \", avg_time_tensorRT)"
   ]
  },
  {
   "cell_type": "markdown",
   "metadata": {},
   "source": [
    "### Perform inference using the original tensorflow model"
   ]
  },
  {
   "cell_type": "code",
   "execution_count": 24,
   "metadata": {},
   "outputs": [
    {
     "name": "stdout",
     "output_type": "stream",
     "text": [
      "needed time in inference-0:  0.0013837814331054688\n",
      "needed time in inference-1:  0.0012083053588867188\n",
      "needed time in inference-2:  0.0012311935424804688\n",
      "needed time in inference-3:  0.0013167858123779297\n",
      "needed time in inference-4:  0.0011591911315917969\n",
      "needed time in inference-5:  0.0029709339141845703\n",
      "needed time in inference-6:  0.001577615737915039\n",
      "needed time in inference-7:  0.0011119842529296875\n",
      "needed time in inference-8:  0.0012359619140625\n",
      "needed time in inference-9:  0.0011501312255859375\n",
      "needed time in inference-10:  0.0011491775512695312\n",
      "needed time in inference-11:  0.0011150836944580078\n",
      "needed time in inference-12:  0.0011501312255859375\n",
      "needed time in inference-13:  0.0011012554168701172\n",
      "needed time in inference-14:  0.0011475086212158203\n",
      "needed time in inference-15:  0.0011734962463378906\n",
      "needed time in inference-16:  0.0014050006866455078\n",
      "needed time in inference-17:  0.0011720657348632812\n",
      "needed time in inference-18:  0.0011777877807617188\n",
      "needed time in inference-19:  0.0011699199676513672\n",
      "needed time in inference-20:  0.0011196136474609375\n",
      "needed time in inference-21:  0.0011539459228515625\n",
      "needed time in inference-22:  0.001161813735961914\n",
      "needed time in inference-23:  0.001135110855102539\n",
      "needed time in inference-24:  0.0012159347534179688\n",
      "needed time in inference-25:  0.0012099742889404297\n",
      "needed time in inference-26:  0.001138925552368164\n",
      "needed time in inference-27:  0.001219034194946289\n",
      "needed time in inference-28:  0.0012111663818359375\n",
      "needed time in inference-29:  0.0012357234954833984\n",
      "needed time in inference-30:  0.001664876937866211\n",
      "needed time in inference-31:  0.0011844635009765625\n",
      "needed time in inference-32:  0.0011382102966308594\n",
      "needed time in inference-33:  0.0011966228485107422\n",
      "needed time in inference-34:  0.00119781494140625\n",
      "needed time in inference-35:  0.001157999038696289\n",
      "needed time in inference-36:  0.0013537406921386719\n",
      "needed time in inference-37:  0.0011141300201416016\n",
      "needed time in inference-38:  0.0011827945709228516\n",
      "needed time in inference-39:  0.0011506080627441406\n",
      "needed time in inference-40:  0.0011134147644042969\n",
      "needed time in inference-41:  0.0011858940124511719\n",
      "needed time in inference-42:  0.0011746883392333984\n",
      "needed time in inference-43:  0.001157522201538086\n",
      "needed time in inference-44:  0.0011165142059326172\n",
      "needed time in inference-45:  0.0011229515075683594\n",
      "needed time in inference-46:  0.0011258125305175781\n",
      "needed time in inference-47:  0.0013446807861328125\n",
      "needed time in inference-48:  0.0011484622955322266\n",
      "needed time in inference-49:  0.0011243820190429688\n",
      "average inference time:  0.0012372827529907226\n",
      "TensorRT improvement compared to the original model: 1.3321815829465642\n"
     ]
    }
   ],
   "source": [
    "# variable\n",
    "FROZEN_MODEL_PATH = './model/frozen_model.pb'\n",
    "\n",
    "graph = tf.Graph()\n",
    "with graph.as_default():\n",
    "    with tf.Session() as sess:\n",
    "        # read TensorRT model\n",
    "        frozen_graph = read_pb_graph(FROZEN_MODEL_PATH)\n",
    "\n",
    "        # obtain the corresponding input-output tensor\n",
    "        tf.import_graph_def(frozen_graph, name='')\n",
    "        input = sess.graph.get_tensor_by_name('input_tensor_input:0')\n",
    "        output = sess.graph.get_tensor_by_name('output_tensor/Softmax:0')\n",
    "\n",
    "        # in this case, it demonstrates to perform inference for 50 times\n",
    "        total_time = 0; n_time_inference = 50\n",
    "        out_pred = sess.run(output, feed_dict={input: input_img})\n",
    "        for i in range(n_time_inference):\n",
    "            t1 = time.time()\n",
    "            out_pred = sess.run(output, feed_dict={input: input_img})\n",
    "            t2 = time.time()\n",
    "            delta_time = t2 - t1\n",
    "            total_time += delta_time\n",
    "            print(\"needed time in inference-\" + str(i) + \": \", delta_time)\n",
    "        avg_time_original_model = total_time / n_time_inference\n",
    "        print(\"average inference time: \", avg_time_original_model)\n",
    "        print(\"TensorRT improvement compared to the original model:\", avg_time_original_model/avg_time_tensorRT)"
   ]
  },
  {
   "cell_type": "markdown",
   "metadata": {},
   "source": [
    "### Plot the prediction result"
   ]
  },
  {
   "cell_type": "code",
   "execution_count": 27,
   "metadata": {},
   "outputs": [
    {
     "data": {
      "image/png": "[encoded data removed]",
      "text/plain": [
       "<Figure size 432x288 with 1 Axes>"
      ]
     },
     "metadata": {},
     "output_type": "display_data"
    },
    {
     "data": {
      "image/png": "[encoded data removed]",
      "text/plain": [
       "<Figure size 432x288 with 1 Axes>"
      ]
     },
     "metadata": {},
     "output_type": "display_data"
    }
   ],
   "source": [
    "# plot the prediction output\n",
    "plt.figure('img 1')\n",
    "plt.imshow(sample1, cmap='gray')\n",
    "plt.title('pred:' + str(np.argmax(out_pred[0])) + '| actual:'+str(y_train[1]), fontsize=22)\n",
    "\n",
    "plt.figure('img 2')\n",
    "plt.imshow(sample2, cmap='gray')\n",
    "plt.title('pred:' + str(np.argmax(out_pred[1]))+ '| actual:'+str(y_train[3]), fontsize=22)\n",
    "plt.show()"
   ]
  },
  {
   "cell_type": "code",
   "execution_count": null,
   "metadata": {},
   "outputs": [],
   "source": []
  }
 ],
 "metadata": {
  "kernelspec": {
   "display_name": "Python [conda env:py35]",
   "language": "python",
   "name": "conda-env-py35-py"
  },
  "language_info": {
   "codemirror_mode": {
    "name": "ipython",
    "version": 3
   },
   "file_extension": ".py",
   "mimetype": "text/x-python",
   "name": "python",
   "nbconvert_exporter": "python",
   "pygments_lexer": "ipython3",
   "version": "3.5.5"
  }
 },
 "nbformat": 4,
 "nbformat_minor": 2
}
